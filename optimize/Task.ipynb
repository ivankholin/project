{
 "cells": [
  {
   "cell_type": "code",
   "execution_count": 1,
   "metadata": {},
   "outputs": [],
   "source": [
    "from scipy.optimize import minimize\n",
    "from scipy.optimize import Bounds\n",
    "from scipy.optimize import LinearConstraint\n",
    "import numpy as np\n",
    "import pandas as pd"
   ]
  },
  {
   "cell_type": "code",
   "execution_count": 2,
   "metadata": {},
   "outputs": [
    {
     "name": "stdout",
     "output_type": "stream",
     "text": [
      "   chanel  price for the video  max number of videos\n",
      "0       1                 1000                   110\n",
      "1       2                  900                    60\n",
      "2       3                 1200                    50\n",
      "3       4                 1100                   150\n",
      "4       5                  800                    50\n",
      "5       6                 1150                    45\n"
     ]
    }
   ],
   "source": [
    "data = pd.read_csv('data_by_channels.csv')\n",
    "print(data)"
   ]
  },
  {
   "cell_type": "markdown",
   "metadata": {},
   "source": [
    "### 1.\n",
    "Пусть у нас имеется фиксированный бюджет в 300 000 у.е. на всю\n",
    "рекламную компанию. Какое должно быть распределение\n",
    "бюджета по каналам, если мы хотим, чтобы на C hanne l1, C h anne l3,\n",
    "C hanne l6 приходилось не менее 40% бюджета (суммарный\n",
    "бюджет на эти каналы должен составлять 40% от общего и при\n",
    "этом не важно как он распределяется внутри обозначенных\n",
    "каналов), а общее количество роликов при этом было\n",
    "максимально. (Решение должно быть найдено с использованием\n",
    "специализированных под подобные задачи библиотек, а также\n",
    "вручную, оперируя лишь стандартными библиотеками numpy и,\n",
    "если потребуется pandas)."
   ]
  },
  {
   "cell_type": "markdown",
   "metadata": {},
   "source": [
    "\\begin{equation}\n",
    "\\begin{aligned}\n",
    "    max(x_{1} + x_{2} + x_{3} + x_{4} + x_{5} + x_{6})\\\\\n",
    "    1000 \\cdot x_{1}+900 \\cdot x_{2}+1200 \\cdot x_{3}+1100 \\cdot x_{4}+800 \\cdot x_{5}+1150 \\cdot x_{6} \\leq 300000\\\\    \n",
    "    1000 \\cdot x_{1}+1200 \\cdot x_{3}+1150 \\cdot x_{6}\\geq120000\\\\\n",
    "    0\\leq x_{1} \\leq110\\\\\n",
    "    0\\leq x_{2} \\leq60\\\\\n",
    "    0\\leq x_{3} \\leq50\\\\\n",
    "    0\\leq x_{4} \\leq150\\\\\n",
    "    0\\leq x_{5} \\leq50\\\\\n",
    "    0\\leq x_{6} \\leq45\\\\\n",
    "\\end{aligned}\n",
    "\\end{equation}"
   ]
  },
  {
   "cell_type": "code",
   "execution_count": 3,
   "metadata": {},
   "outputs": [],
   "source": [
    "fun = lambda x: -(x.sum())\n",
    "cons = ({'type': 'ineq', 'fun': lambda x: data.iloc[:,1].values.dot([x[0], 0, x[2], 0, 0, x[5]]) - 120000},\n",
    "        {'type': 'ineq', 'fun': lambda x: -(data.iloc[:,1].values.dot(x)) + 300000})\n",
    "bnds = []\n",
    "for i in data.iloc[:,2].values:\n",
    "    bnds.append((0,i))\n",
    "res = minimize(fun, data.iloc[:,2].values, method='SLSQP', bounds=bnds,\n",
    "                constraints=cons)"
   ]
  },
  {
   "cell_type": "code",
   "execution_count": 4,
   "metadata": {
    "scrolled": true
   },
   "outputs": [
    {
     "name": "stdout",
     "output_type": "stream",
     "text": [
      "300150.0 120350.0\n"
     ]
    }
   ],
   "source": [
    "result = np.array([])\n",
    "for x in res.x:\n",
    "    result = np.hstack([result,round(x)])\n",
    "\n",
    "print(data.iloc[:,1].values.dot(result),data.iloc[[0, 2, 5],1].values.dot(result[[0, 2, 5]]))"
   ]
  },
  {
   "cell_type": "markdown",
   "metadata": {},
   "source": [
    "условие, чтобы на Channel1, Channel3, Channel6 приходилось не менее 40% бюджета, выполняктся, но мы привысили бюджет. Поэтому необходимо вычесть один ролик из 2,4,5 каналов, выберем самый дешевый ролик."
   ]
  },
  {
   "cell_type": "code",
   "execution_count": 5,
   "metadata": {},
   "outputs": [
    {
     "data": {
      "text/plain": [
       "array([110000.,  54000.,      0.,  85800.,  39200.,  10350.])"
      ]
     },
     "execution_count": 5,
     "metadata": {},
     "output_type": "execute_result"
    }
   ],
   "source": [
    "result[4] -= 1\n",
    "data.iloc[:,1].values*result"
   ]
  },
  {
   "cell_type": "code",
   "execution_count": 6,
   "metadata": {},
   "outputs": [],
   "source": [
    "def norm(vec):\n",
    "    #функция нормировки вектора\n",
    "    norma = np.linalg.norm(vec)\n",
    "    for i in range(len(vec)):\n",
    "        vec[i] = vec[i]/norma;\n",
    "    return vec"
   ]
  },
  {
   "cell_type": "code",
   "execution_count": 7,
   "metadata": {},
   "outputs": [],
   "source": [
    "def f1(x):\n",
    "    return np.array([float(x) for x in data.iloc[:,1].values]).dot(x) <= 300000"
   ]
  },
  {
   "cell_type": "code",
   "execution_count": 8,
   "metadata": {},
   "outputs": [],
   "source": [
    "def f2(x):\n",
    "    return np.array([float(data.iloc[i,1]) if i in [0,2,5] else 0. for i in range(6)]).dot(x) >= 120000"
   ]
  },
  {
   "cell_type": "code",
   "execution_count": 9,
   "metadata": {},
   "outputs": [],
   "source": [
    "def maximize(x0):\n",
    "    jac_cons1 = norm(np.array([float(-x) for x in data.iloc[:,1].values]))\n",
    "    jac_cons2 = norm(np.array([float(data.iloc[i,1]) if i in [0,2,5] else 0. for i in range(6)]))\n",
    "    \n",
    "    for i in range(4000):\n",
    "        jac_func = norm(np.array([1., 1., 1., 1., 1., 1.]))\n",
    "        if( not f1(x0 + jac_func) ):\n",
    "            jac_func = jac_func + jac_cons1\n",
    "        if ( not f2(x0 + jac_func) ):\n",
    "            jac_func += jac_cons2            \n",
    "        x = x0 + jac_func\n",
    "        if( x[0] >= 110 or x[0] <= 0):\n",
    "            jac_func[0] = 0            \n",
    "        if( x[1] >= 60 or x[1] <= 0):\n",
    "            jac_func[1] = 0\n",
    "        if( x[2] >= 50 or x[2] <= 0):\n",
    "            jac_func[2] = 0            \n",
    "        if( x[3] >= 150 or x[3] <= 0):\n",
    "            jac_func[3] = 0            \n",
    "        if( x[4] >= 50 or x[4] <= 0):\n",
    "            jac_func[4] = 0           \n",
    "        if( x[5] >=45 or x[5] <= 0):\n",
    "            jac_func[5] = 0\n",
    "        x0 += jac_func\n",
    "    return x0"
   ]
  },
  {
   "cell_type": "code",
   "execution_count": 10,
   "metadata": {},
   "outputs": [
    {
     "name": "stdout",
     "output_type": "stream",
     "text": [
      "297950.0 120350.0\n"
     ]
    }
   ],
   "source": [
    "X0 = np.array([110., 60., 50., 150., 50., 45.])\n",
    "res = maximize(X0)\n",
    "result = np.array([])\n",
    "for x in res:\n",
    "    result = np.hstack([result,round(x)])\n",
    "\n",
    "print(data.iloc[:,1].values.dot(result),data.iloc[[0, 2, 5],1].values.dot(result[[0, 2, 5]]))"
   ]
  },
  {
   "cell_type": "markdown",
   "metadata": {},
   "source": [
    "При такой реализации получается небольшое занежение бюджета. Поэтому добавим один любой ролик."
   ]
  },
  {
   "cell_type": "code",
   "execution_count": 11,
   "metadata": {},
   "outputs": [
    {
     "data": {
      "text/plain": [
       "array([110000.,  54000.,      0.,  84700.,  40000.,  10350.])"
      ]
     },
     "execution_count": 11,
     "metadata": {},
     "output_type": "execute_result"
    }
   ],
   "source": [
    "result[3] += 1\n",
    "data.iloc[:,1].values*result"
   ]
  },
  {
   "cell_type": "markdown",
   "metadata": {},
   "source": [
    "### 2.\n",
    "Пусть у нас имеется фиксированный бюджет в 300 000 у.е. на всю\n",
    "рекламную компанию. Какое должно быть распределение\n",
    "бюджета по каналам, если мы хотим, чтобы на C hanne l1, C hanne l3,\n",
    "C h anne l6 приходилось не менее 40% роликов, а общее количество\n",
    "роликов при этом было максимально. (Решение должно быть\n",
    "найдено с использованием специализированных под подобные\n",
    "задачи библиотек, а также вручную, оперируя лишь стандартными\n",
    "библиотеками numpy и, если потребуется pandas)."
   ]
  },
  {
   "cell_type": "markdown",
   "metadata": {},
   "source": [
    "\\begin{equation}\n",
    "\\begin{aligned}\n",
    "    max(x_{1} + x_{2} + x_{3} + x_{4} + x_{5} + x_{6})\\\\\n",
    "    1000 \\cdot x_{1}+900 \\cdot x_{2}+1200 \\cdot x_{3}+1100 \\cdot x_{4}+800 \\cdot x_{5}+1150 \\cdot x_{6} \\leq 300000\\\\    \n",
    "    x_{1}+x_{3}+x_{6}\\geq 0.4*(x_{1}+x_{2}+x_{3}+x_{4}+x_{5}+x_{6})\\\\\n",
    "    0\\leq x_{1} \\leq110\\\\\n",
    "    0\\leq x_{2} \\leq60\\\\\n",
    "    0\\leq x_{3} \\leq50\\\\\n",
    "    0\\leq x_{4} \\leq150\\\\\n",
    "    0\\leq x_{5} \\leq50\\\\\n",
    "    0\\leq x_{6} \\leq45\\\\\n",
    "\\end{aligned}\n",
    "\\end{equation}"
   ]
  },
  {
   "cell_type": "code",
   "execution_count": 12,
   "metadata": {},
   "outputs": [],
   "source": [
    "fun = lambda x: -(x.sum())\n",
    "cons = ({'type': 'ineq', 'fun': lambda x: x[0] + x[2] + x[5] - 0.4*x.sum() },\n",
    "        {'type': 'ineq', 'fun': lambda x: -(data.iloc[:,1].values.dot(x)) + 300000})\n",
    "bnds = []\n",
    "for i in data.iloc[:,2].values:\n",
    "    bnds.append((0,i))\n",
    "res = minimize(fun, data.iloc[:,2].values, method='SLSQP', bounds=bnds,\n",
    "                constraints=cons)"
   ]
  },
  {
   "cell_type": "code",
   "execution_count": 13,
   "metadata": {},
   "outputs": [
    {
     "name": "stdout",
     "output_type": "stream",
     "text": [
      "300350.0 0.4006514657980456\n"
     ]
    }
   ],
   "source": [
    "result = np.array([])\n",
    "for x in res.x:\n",
    "    result = np.hstack([result,round(x)])\n",
    "\n",
    "print(data.iloc[:,1].values.dot(result), result[[0,2,5]].sum()/result.sum())"
   ]
  },
  {
   "cell_type": "code",
   "execution_count": 14,
   "metadata": {},
   "outputs": [
    {
     "data": {
      "text/plain": [
       "array([110.,  60.,   0.,  74.,  50.,  13.])"
      ]
     },
     "execution_count": 14,
     "metadata": {},
     "output_type": "execute_result"
    }
   ],
   "source": [
    "result"
   ]
  },
  {
   "cell_type": "markdown",
   "metadata": {},
   "source": [
    " Здесь мы также привысили бюджет. Поэтому необходимо вычесть один ролик из 2,4,5 каналов, выберем самый дешевый ролик."
   ]
  },
  {
   "cell_type": "code",
   "execution_count": 15,
   "metadata": {},
   "outputs": [
    {
     "data": {
      "text/plain": [
       "array([110000.,  54000.,      0.,  81400.,  39200.,  14950.])"
      ]
     },
     "execution_count": 15,
     "metadata": {},
     "output_type": "execute_result"
    }
   ],
   "source": [
    "result[4] -= 1\n",
    "data.iloc[:,1].values*result"
   ]
  },
  {
   "cell_type": "code",
   "execution_count": 16,
   "metadata": {},
   "outputs": [],
   "source": [
    "def f3(x):\n",
    "    return 0.4*x.sum() <= x[[0,2,5]].sum()"
   ]
  },
  {
   "cell_type": "code",
   "execution_count": 17,
   "metadata": {},
   "outputs": [],
   "source": [
    "def maximize_two(x0):\n",
    "    jac_cons1 = norm(np.array([float(-x) for x in data.iloc[:,1].values]))\n",
    "    jac_cons2 = norm(np.array([-0.6, -1., -0.6, -1., -1., -0.6]))\n",
    "    \n",
    "    for i in range(5000):\n",
    "        jac_func = norm(np.array([1., 1., 1., 1., 1., 1.]))\n",
    "        if( not f1(x0 + jac_func) ):\n",
    "            jac_func = jac_func + jac_cons1\n",
    "        if ( not f3(x0 + jac_func) ):\n",
    "            jac_func += jac_cons2            \n",
    "        x = x0 + jac_func\n",
    "        if( x[0] >= 110 or x[0] <= 0):\n",
    "            jac_func[0] = 0            \n",
    "        if( x[1] >= 60 or x[1] <= 0):\n",
    "            jac_func[1] = 0\n",
    "        if( x[2] >= 50 or x[2] <= 0):\n",
    "            jac_func[2] = 0            \n",
    "        if( x[3] >= 150 or x[3] <= 0):\n",
    "            jac_func[3] = 0            \n",
    "        if( x[4] >= 50 or x[4] <= 0):\n",
    "            jac_func[4] = 0           \n",
    "        if( x[5] >=45 or x[5] <= 0):\n",
    "            jac_func[5] = 0\n",
    "        x0 += jac_func\n",
    "    return x0"
   ]
  },
  {
   "cell_type": "code",
   "execution_count": 18,
   "metadata": {},
   "outputs": [
    {
     "name": "stdout",
     "output_type": "stream",
     "text": [
      "298100.0 0.4\n"
     ]
    }
   ],
   "source": [
    "X0 = np.array([110., 60., 50., 150., 50., 45.])\n",
    "res = maximize_two(X0)\n",
    "result = np.array([])\n",
    "for x in res:\n",
    "    result = np.hstack([result,round(x)])\n",
    "\n",
    "print(data.iloc[:,1].values.dot(result), result[[0,2,5]].sum()/result.sum())"
   ]
  },
  {
   "cell_type": "markdown",
   "metadata": {},
   "source": [
    "При такой реализации получается небольшое занежение бюджета. Поэтому добавим один любой ролик."
   ]
  },
  {
   "cell_type": "code",
   "execution_count": 19,
   "metadata": {},
   "outputs": [
    {
     "data": {
      "text/plain": [
       "array([110000.,  54000.,      0.,  80300.,  40000.,  14950.])"
      ]
     },
     "execution_count": 19,
     "metadata": {},
     "output_type": "execute_result"
    }
   ],
   "source": [
    "result[5] += 1\n",
    "data.iloc[:,1].values*result"
   ]
  },
  {
   "cell_type": "markdown",
   "metadata": {},
   "source": [
    "### 3.\n",
    "Написать на языке python скрипт, который позволяет найти локальный\n",
    "минимум функции sin (atan ( y ) )∗sin (atan ( x ) )∗e (− x − y ). (Решение должно быть\n",
    "найдено с использованием специализированных под подобные задачи\n",
    "библиотек, а также вручную, оперируя лишь стандартными\n",
    "библиотеками numpy и, если потребуется pandas).\n",
    "Визуализация\n",
    "оптимизируемой\n",
    "функции\n",
    "будет\n",
    "являться\n",
    "дополнительным преимуществом."
   ]
  },
  {
   "cell_type": "code",
   "execution_count": 20,
   "metadata": {},
   "outputs": [],
   "source": [
    "def func(x, y):\n",
    "    return np.sin(np.arctan(y))*np.sin(np.arctan(x))*np.exp(-x**2 - y**2)"
   ]
  },
  {
   "cell_type": "code",
   "execution_count": 21,
   "metadata": {},
   "outputs": [],
   "source": [
    "import matplotlib.pyplot as plt\n",
    "from mpl_toolkits.mplot3d.axes3d import Axes3D"
   ]
  },
  {
   "cell_type": "code",
   "execution_count": 22,
   "metadata": {
    "scrolled": true
   },
   "outputs": [
    {
     "data": {
      "image/png": "[encoded data removed]",
      "text/plain": [
       "<Figure size 432x288 with 1 Axes>"
      ]
     },
     "metadata": {},
     "output_type": "display_data"
    }
   ],
   "source": [
    "fig = plt.figure()\n",
    "ax = fig.gca(projection='3d')\n",
    "\n",
    "X = np.arange(-3, 3, 0.25)\n",
    "Y = np.arange(-3, 3, 0.25)\n",
    "X, Y = np.meshgrid(X, Y)\n",
    "Z = func(X,Y)\n",
    "\n",
    "surf = ax.plot_surface(X, Y, Z)\n",
    "ax.set_xlabel('x')\n",
    "ax.set_ylabel('y')\n",
    "ax.set_zlabel('f(x,y)')\n",
    "plt.show()"
   ]
  },
  {
   "cell_type": "markdown",
   "metadata": {},
   "source": [
    "Как видно из графика у функции имеются два минимума и в зависимости от выбора начальной точки мы можем получить разные решения."
   ]
  },
  {
   "cell_type": "code",
   "execution_count": 23,
   "metadata": {
    "scrolled": true
   },
   "outputs": [
    {
     "name": "stdout",
     "output_type": "stream",
     "text": [
      "[-0.60500031  0.6050003 ] -0.12886258119189725\n"
     ]
    }
   ],
   "source": [
    "optimal = minimize(lambda z: func(z[0],z[1]), [-1., 1.], method='L-BFGS-B', bounds=((-3, 3),(-3, 3)))\n",
    "print(optimal.x, func(optimal.x[0], optimal.x[1]))"
   ]
  },
  {
   "cell_type": "code",
   "execution_count": 24,
   "metadata": {},
   "outputs": [
    {
     "name": "stdout",
     "output_type": "stream",
     "text": [
      "[ 0.6050003  -0.60500031] -0.12886258119189725\n"
     ]
    }
   ],
   "source": [
    "optimal = minimize(lambda z: func(z[0],z[1]), [1., -1.], method='L-BFGS-B', bounds=((-3, 3),(-3, 3)))\n",
    "print(optimal.x, func(optimal.x[0], optimal.x[1]))"
   ]
  },
  {
   "cell_type": "code",
   "execution_count": 25,
   "metadata": {},
   "outputs": [],
   "source": [
    "def jac_func(x, y):\n",
    "    df_dx = np.sin(np.arctan(y))*np.exp(-x**2 - y**2)*( np.cos(np.arctan(x))*(1./(1. + x**2)) -\n",
    "                                                       np.sin(np.arctan(x))*2*x )\n",
    "    \n",
    "    df_dy = np.sin(np.arctan(x))*np.exp(-x**2 - y**2)*( np.cos(np.arctan(y))*(1./(1. + y**2)) -\n",
    "                                                       np.sin(np.arctan(y))*2*y )\n",
    "    return np.array([df_dx, df_dy])"
   ]
  },
  {
   "cell_type": "code",
   "execution_count": 30,
   "metadata": {},
   "outputs": [],
   "source": [
    "def minimum(x0):\n",
    "    f = 1000 \n",
    "    while(f > func(x0[0], x0[1])):\n",
    "        f = func(x0[0], x0[1])\n",
    "        grad = jac_func(x0[0], x0[1])\n",
    "        x0 -= 0.01*grad\n",
    "    return x0"
   ]
  },
  {
   "cell_type": "code",
   "execution_count": 31,
   "metadata": {},
   "outputs": [
    {
     "name": "stdout",
     "output_type": "stream",
     "text": [
      "[ 0.60500043 -0.60500043] -0.12886258119189184\n"
     ]
    }
   ],
   "source": [
    "optimal = minimum([1., -1.0])\n",
    "print(optimal, func(optimal[0], optimal[1]))"
   ]
  },
  {
   "cell_type": "code",
   "execution_count": 32,
   "metadata": {},
   "outputs": [
    {
     "name": "stdout",
     "output_type": "stream",
     "text": [
      "[-0.60500043  0.60500043] -0.12886258119189184\n"
     ]
    }
   ],
   "source": [
    "optimal = minimum([-1., 1.0])\n",
    "print(optimal, func(optimal[0], optimal[1]))"
   ]
  },
  {
   "cell_type": "code",
   "execution_count": null,
   "metadata": {},
   "outputs": [],
   "source": []
  }
 ],
 "metadata": {
  "kernelspec": {
   "display_name": "Python 3",
   "language": "python",
   "name": "python3"
  },
  "language_info": {
   "codemirror_mode": {
    "name": "ipython",
    "version": 3
   },
   "file_extension": ".py",
   "mimetype": "text/x-python",
   "name": "python",
   "nbconvert_exporter": "python",
   "pygments_lexer": "ipython3",
   "version": "3.6.5"
  }
 },
 "nbformat": 4,
 "nbformat_minor": 2
}
