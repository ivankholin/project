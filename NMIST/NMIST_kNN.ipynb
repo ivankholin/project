{
 "cells": [
  {
   "cell_type": "code",
   "execution_count": 1,
   "metadata": {},
   "outputs": [],
   "source": [
    "import pandas as pd\n",
    "import numpy as np"
   ]
  },
  {
   "cell_type": "code",
   "execution_count": 2,
   "metadata": {},
   "outputs": [
    {
     "name": "stderr",
     "output_type": "stream",
     "text": [
      "E:\\Ivan\\Anaconda\\Anaconda3\\lib\\site-packages\\h5py\\__init__.py:36: FutureWarning: Conversion of the second argument of issubdtype from `float` to `np.floating` is deprecated. In future, it will be treated as `np.float64 == np.dtype(float).type`.\n",
      "  from ._conv import register_converters as _register_converters\n",
      "Using TensorFlow backend.\n"
     ]
    }
   ],
   "source": [
    "from keras.models import Model \n",
    "from keras.layers import Input, Dense, Dropout, Flatten, Conv2D, MaxPooling2D \n",
    "from keras.utils import np_utils"
   ]
  },
  {
   "cell_type": "code",
   "execution_count": 3,
   "metadata": {},
   "outputs": [],
   "source": [
    "mnist_train = pd.read_csv('train.csv')\n",
    "mnist_test = pd.read_csv('test.csv')"
   ]
  },
  {
   "cell_type": "code",
   "execution_count": 4,
   "metadata": {},
   "outputs": [],
   "source": [
    "batch_size = 128 \n",
    "num_epochs = 30\n",
    "\n",
    "num_train = mnist_train.shape[0]\n",
    "num_test = mnist_test.shape[0]\n",
    "\n",
    "height, width, depth = 28, 28, 1 \n",
    "input_shape = (height, width, depth)\n",
    "num_classes = 10 \n",
    "\n",
    "X_train, X_test, y_train = mnist_train.drop(['label'],axis=1).values, mnist_test.values, mnist_train['label'].values\n",
    "\n",
    "X_train = X_train.reshape(num_train, height, width, depth) \n",
    "X_test = X_test.reshape(num_test, height, width, depth)\n",
    "X_train = X_train.astype('float32') \n",
    "X_test = X_test.astype('float32')\n",
    "X_train /= 255 \n",
    "X_test /= 255 \n",
    "\n",
    "Y_train = np_utils.to_categorical(y_train, num_classes)"
   ]
  },
  {
   "cell_type": "code",
   "execution_count": 5,
   "metadata": {},
   "outputs": [
    {
     "name": "stderr",
     "output_type": "stream",
     "text": [
      "E:\\Ivan\\Anaconda\\Anaconda3\\lib\\site-packages\\ipykernel_launcher.py:10: UserWarning: Update your `Model` call to the Keras 2 API: `Model(inputs=Tensor(\"in..., outputs=Tensor(\"de...)`\n",
      "  # Remove the CWD from sys.path while we load stuff.\n"
     ]
    }
   ],
   "source": [
    "inp = Input(shape = input_shape)\n",
    "conv_1  = Conv2D(32, (3, 3), activation='relu')(inp)\n",
    "conv_2 = Conv2D(64, (3, 3), activation='relu')(conv_1)\n",
    "pool = MaxPooling2D(pool_size=(2, 2))(conv_2)\n",
    "drop_1 = Dropout(0.25)(pool)\n",
    "flat = Flatten()(drop_1)\n",
    "hidden = Dense(128, activation='relu')(flat)\n",
    "drop_2 = Dropout(0.5)(hidden)\n",
    "out = Dense(num_classes, activation='softmax')(drop_2)\n",
    "model = Model(input=inp, output=out)"
   ]
  },
  {
   "cell_type": "code",
   "execution_count": 6,
   "metadata": {},
   "outputs": [],
   "source": [
    "model.compile(loss='categorical_crossentropy', optimizer='adam', metrics=['accuracy'])"
   ]
  },
  {
   "cell_type": "code",
   "execution_count": 7,
   "metadata": {},
   "outputs": [
    {
     "name": "stderr",
     "output_type": "stream",
     "text": [
      "E:\\Ivan\\Anaconda\\Anaconda3\\lib\\site-packages\\ipykernel_launcher.py:1: UserWarning: The `nb_epoch` argument in `fit` has been renamed `epochs`.\n",
      "  \"\"\"Entry point for launching an IPython kernel.\n"
     ]
    },
    {
     "name": "stdout",
     "output_type": "stream",
     "text": [
      "Epoch 1/30\n",
      "42000/42000 [==============================] - 89s 2ms/step - loss: 0.2978 - acc: 0.9069\n",
      "Epoch 2/30\n",
      "42000/42000 [==============================] - 89s 2ms/step - loss: 0.0950 - acc: 0.9716\n",
      "Epoch 3/30\n",
      "42000/42000 [==============================] - 89s 2ms/step - loss: 0.0709 - acc: 0.9779\n",
      "Epoch 4/30\n",
      "42000/42000 [==============================] - 89s 2ms/step - loss: 0.0573 - acc: 0.9832\n",
      "Epoch 5/30\n",
      "42000/42000 [==============================] - 89s 2ms/step - loss: 0.0478 - acc: 0.9854\n",
      "Epoch 6/30\n",
      "42000/42000 [==============================] - 89s 2ms/step - loss: 0.0431 - acc: 0.9868\n",
      "Epoch 7/30\n",
      "42000/42000 [==============================] - 89s 2ms/step - loss: 0.0388 - acc: 0.9870\n",
      "Epoch 8/30\n",
      "42000/42000 [==============================] - 89s 2ms/step - loss: 0.0313 - acc: 0.9893\n",
      "Epoch 9/30\n",
      "42000/42000 [==============================] - 89s 2ms/step - loss: 0.0283 - acc: 0.9908\n",
      "Epoch 10/30\n",
      "42000/42000 [==============================] - 89s 2ms/step - loss: 0.0276 - acc: 0.9911\n",
      "Epoch 11/30\n",
      "42000/42000 [==============================] - 89s 2ms/step - loss: 0.0243 - acc: 0.9919\n",
      "Epoch 12/30\n",
      "42000/42000 [==============================] - 89s 2ms/step - loss: 0.0251 - acc: 0.9913\n",
      "Epoch 13/30\n",
      "42000/42000 [==============================] - 89s 2ms/step - loss: 0.0216 - acc: 0.9930\n",
      "Epoch 14/30\n",
      "42000/42000 [==============================] - 91s 2ms/step - loss: 0.0196 - acc: 0.9934\n",
      "Epoch 15/30\n",
      "42000/42000 [==============================] - 90s 2ms/step - loss: 0.0199 - acc: 0.9935\n",
      "Epoch 16/30\n",
      "42000/42000 [==============================] - 91s 2ms/step - loss: 0.0174 - acc: 0.9945\n",
      "Epoch 17/30\n",
      "42000/42000 [==============================] - 90s 2ms/step - loss: 0.0190 - acc: 0.9935\n",
      "Epoch 18/30\n",
      "42000/42000 [==============================] - 89s 2ms/step - loss: 0.0160 - acc: 0.9945\n",
      "Epoch 19/30\n",
      "42000/42000 [==============================] - 89s 2ms/step - loss: 0.0159 - acc: 0.9943\n",
      "Epoch 20/30\n",
      "42000/42000 [==============================] - 89s 2ms/step - loss: 0.0150 - acc: 0.9951\n",
      "Epoch 21/30\n",
      "42000/42000 [==============================] - 89s 2ms/step - loss: 0.0137 - acc: 0.9955\n",
      "Epoch 22/30\n",
      "42000/42000 [==============================] - 90s 2ms/step - loss: 0.0146 - acc: 0.9947\n",
      "Epoch 23/30\n",
      "42000/42000 [==============================] - 89s 2ms/step - loss: 0.0141 - acc: 0.9952\n",
      "Epoch 24/30\n",
      "42000/42000 [==============================] - 90s 2ms/step - loss: 0.0127 - acc: 0.9955\n",
      "Epoch 25/30\n",
      "42000/42000 [==============================] - 89s 2ms/step - loss: 0.0123 - acc: 0.9955\n",
      "Epoch 26/30\n",
      "42000/42000 [==============================] - 89s 2ms/step - loss: 0.0118 - acc: 0.9961\n",
      "Epoch 27/30\n",
      "42000/42000 [==============================] - 89s 2ms/step - loss: 0.0103 - acc: 0.9964\n",
      "Epoch 28/30\n",
      "42000/42000 [==============================] - 90s 2ms/step - loss: 0.0114 - acc: 0.9967\n",
      "Epoch 29/30\n",
      "42000/42000 [==============================] - 90s 2ms/step - loss: 0.0112 - acc: 0.9963\n",
      "Epoch 30/30\n",
      "42000/42000 [==============================] - 89s 2ms/step - loss: 0.0106 - acc: 0.9967\n"
     ]
    },
    {
     "data": {
      "text/plain": [
       "<keras.callbacks.History at 0xcdd7518>"
      ]
     },
     "execution_count": 7,
     "metadata": {},
     "output_type": "execute_result"
    }
   ],
   "source": [
    "model.fit(X_train, Y_train, batch_size=batch_size, nb_epoch=num_epochs, verbose=1) \n"
   ]
  },
  {
   "cell_type": "code",
   "execution_count": 8,
   "metadata": {},
   "outputs": [],
   "source": [
    "test_predict = model.predict(X_test)"
   ]
  },
  {
   "cell_type": "code",
   "execution_count": 13,
   "metadata": {},
   "outputs": [],
   "source": [
    "y_predict = []\n",
    "for predict in test_predict:\n",
    "    max_value = 0\n",
    "    index_max_value = 0\n",
    "    i = 0\n",
    "    for val in predict:\n",
    "        if max_value < val:\n",
    "            max_value = val\n",
    "            index_max_value = i\n",
    "        i += 1\n",
    "    y_predict.append(index_max_value)"
   ]
  },
  {
   "cell_type": "code",
   "execution_count": 15,
   "metadata": {},
   "outputs": [],
   "source": [
    "rezult = pd.DataFrame({'ImageId': range(1,28001), 'Label': np.array(y_predict)})\n",
    "rezult.to_csv('submission.csv', sep=',', index=False)"
   ]
  },
  {
   "cell_type": "code",
   "execution_count": null,
   "metadata": {},
   "outputs": [],
   "source": []
  }
 ],
 "metadata": {
  "kernelspec": {
   "display_name": "Python 3",
   "language": "python",
   "name": "python3"
  },
  "language_info": {
   "codemirror_mode": {
    "name": "ipython",
    "version": 3
   },
   "file_extension": ".py",
   "mimetype": "text/x-python",
   "name": "python",
   "nbconvert_exporter": "python",
   "pygments_lexer": "ipython3",
   "version": "3.6.5"
  }
 },
 "nbformat": 4,
 "nbformat_minor": 2
}
