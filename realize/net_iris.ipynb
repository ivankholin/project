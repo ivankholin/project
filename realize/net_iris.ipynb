{
 "cells": [
  {
   "cell_type": "code",
   "execution_count": 1,
   "metadata": {
    "extensions": {
     "jupyter_dashboards": {
      "version": 1,
      "views": {
       "grid_default": {},
       "report_default": {}
      }
     }
    }
   },
   "outputs": [],
   "source": [
    "import pandas as pd\n",
    "import numpy as np\n",
    "from sklearn.datasets import load_iris\n",
    "from sklearn.utils import shuffle\n",
    "from sklearn.model_selection import train_test_split\n"
   ]
  },
  {
   "cell_type": "code",
   "execution_count": 2,
   "metadata": {
    "extensions": {
     "jupyter_dashboards": {
      "version": 1,
      "views": {
       "grid_default": {},
       "report_default": {}
      }
     }
    }
   },
   "outputs": [],
   "source": [
    "class perceptron():\n",
    "    def __init__(self, eps = 0.0000001, alpha = 0.1, max_iter = 1000):\n",
    "        self.eps = eps\n",
    "        self.alpha = alpha\n",
    "        self.max_iter = max_iter\n",
    "        \n",
    "    def grad_loss(self, x, y):\n",
    "        y_pred = np.array([1 if a > 0 else 0 for a in x.dot(self.w)]).reshape((x.shape[0], 1))\n",
    "        dL_dw = ((y_pred-y)*x).mean(axis=0).reshape(self.w.shape)\n",
    "        return dL_dw\n",
    "    \n",
    "    def predict(self, X):\n",
    "        self.b = np.ones((X.shape[0],1))\n",
    "        x = np.hstack((self.b, X))\n",
    "        return [1 if a > 0 else 0 for a in x.dot(self.w)]\n",
    "        \n",
    "    def fit(self, x, y):\n",
    "        self.w = np.ones((x.shape[1]+1,1))\n",
    "        self.b = np.ones((x.shape[0],1))\n",
    "        x = np.hstack((self.b, x))\n",
    "        grad_L = self.grad_loss(x, y)\n",
    "        i_iter = 1\n",
    "        while(np.linalg.norm(grad_L) > self.eps and i_iter < self.max_iter):\n",
    "            self.w -= self.alpha*grad_L\n",
    "            grad_L = self.grad_loss(x, y)\n",
    "            i_iter += 1"
   ]
  },
  {
   "cell_type": "code",
   "execution_count": 3,
   "metadata": {
    "extensions": {
     "jupyter_dashboards": {
      "version": 1,
      "views": {
       "grid_default": {},
       "report_default": {}
      }
     }
    }
   },
   "outputs": [],
   "source": [
    "class LogisticRegression_():\n",
    "    def __init__(self, eps = 0.000001, alpha = 0.1, max_iter = 1000):\n",
    "        self.eps = eps\n",
    "        self.alpha = alpha\n",
    "        self.max_iter = max_iter\n",
    "        \n",
    "    def sigm(self, a):\n",
    "        return 1./(1. + np.exp(-a))\n",
    "    \n",
    "    def grad_sigm(self, a):\n",
    "        one = np.ones(a.shape)\n",
    "        return self.sigm(a)*(one - self.sigm(a))\n",
    "\n",
    "        \n",
    "    def grad_loss(self, x, y):\n",
    "        y_pred = self.sigm(x.dot(self.w))\n",
    "        dL_dw = ((y_pred-y)*self.grad_sigm(x.dot(self.w))*x).sum(axis=0).reshape(self.w.shape)\n",
    "        return dL_dw\n",
    "    \n",
    "    def predict(self, X):\n",
    "        self.b = np.ones((X.shape[0],1))\n",
    "        x = np.hstack((self.b, X))\n",
    "        return [1 if x >= 0.5 else 0 for x in self.sigm(x.dot(self.w))]\n",
    "        \n",
    "    def fit(self, X, y):\n",
    "        self.w = np.ones((X.shape[1]+1,1))\n",
    "        self.b = np.ones((X.shape[0],1))\n",
    "        x = np.hstack((self.b, X))\n",
    "        grad_L = self.grad_loss(x, y)\n",
    "        i_iter = 1\n",
    "        while(np.linalg.norm(grad_L) > self.eps and i_iter < self.max_iter):\n",
    "            self.w -= self.alpha*grad_L\n",
    "            grad_L = self.grad_loss(x, y) \n",
    "            i_iter += 1"
   ]
  },
  {
   "cell_type": "code",
   "execution_count": 4,
   "metadata": {
    "extensions": {
     "jupyter_dashboards": {
      "version": 1,
      "views": {
       "grid_default": {},
       "report_default": {}
      }
     }
    }
   },
   "outputs": [],
   "source": [
    "iris = load_iris()\n",
    "shapeXY = shuffle(np.hstack((iris.data[:100],\n",
    "                             iris.target[:100].reshape((100,1)))))\n",
    "X = shapeXY[:,:4]\n",
    "Y = shapeXY[:,4].reshape((100,1))"
   ]
  },
  {
   "cell_type": "code",
   "execution_count": 5,
   "metadata": {
    "extensions": {
     "jupyter_dashboards": {
      "version": 1,
      "views": {
       "grid_default": {},
       "report_default": {}
      }
     }
    }
   },
   "outputs": [],
   "source": [
    "X_train,X_test,Y_train,Y_test = train_test_split(X, Y, test_size = 0.1, random_state=0)\n",
    "per = perceptron()\n",
    "per.fit(X_train, Y_train)"
   ]
  },
  {
   "cell_type": "code",
   "execution_count": 6,
   "metadata": {
    "extensions": {
     "jupyter_dashboards": {
      "version": 1,
      "views": {
       "grid_default": {},
       "report_default": {}
      }
     }
    }
   },
   "outputs": [
    {
     "name": "stdout",
     "output_type": "stream",
     "text": [
      "[1, 0, 1, 1, 0, 1, 1, 0, 0, 0]\n"
     ]
    }
   ],
   "source": [
    "print(per.predict(X_test))"
   ]
  },
  {
   "cell_type": "code",
   "execution_count": 7,
   "metadata": {
    "extensions": {
     "jupyter_dashboards": {
      "version": 1,
      "views": {
       "grid_default": {},
       "report_default": {}
      }
     }
    }
   },
   "outputs": [
    {
     "name": "stdout",
     "output_type": "stream",
     "text": [
      "[1. 0. 1. 1. 0. 1. 1. 0. 0. 0.]\n"
     ]
    }
   ],
   "source": [
    "print(Y_test.flatten())"
   ]
  },
  {
   "cell_type": "code",
   "execution_count": 9,
   "metadata": {
    "extensions": {
     "jupyter_dashboards": {
      "version": 1,
      "views": {
       "grid_default": {},
       "report_default": {}
      }
     }
    }
   },
   "outputs": [
    {
     "data": {
      "image/png": "[encoded data removed]",
      "text/plain": [
       "<Figure size 432x288 with 1 Axes>"
      ]
     },
     "metadata": {
      "needs_background": "light"
     },
     "output_type": "display_data"
    }
   ],
   "source": [
    "from sklearn.datasets import make_biclusters\n",
    "\n",
    "dataset = make_biclusters((1000,2), 2, noise = 25, random_state = 0)\n",
    "\n",
    "target = np.array([0 if x else 1 for x in dataset[1][0]])\n",
    "import matplotlib.pyplot as plt\n",
    "\n",
    "plt.scatter(dataset[0][dataset[1][0]][:,0], dataset[0][dataset[1][0]][:,1])\n",
    "plt.scatter(dataset[0][False == dataset[1][0]][:,0], dataset[0][False == dataset[1][0]][:,1])\n",
    "plt.show()"
   ]
  },
  {
   "cell_type": "code",
   "execution_count": 10,
   "metadata": {
    "extensions": {
     "jupyter_dashboards": {
      "version": 1,
      "views": {
       "grid_default": {},
       "report_default": {}
      }
     }
    }
   },
   "outputs": [
    {
     "name": "stderr",
     "output_type": "stream",
     "text": [
      "/home/user/anaconda3/lib/python3.6/site-packages/ipykernel_launcher.py:8: RuntimeWarning: overflow encountered in exp\n",
      "  \n",
      "/home/user/anaconda3/lib/python3.6/site-packages/sklearn/linear_model/logistic.py:433: FutureWarning: Default solver will be changed to 'lbfgs' in 0.22. Specify a solver to silence this warning.\n",
      "  FutureWarning)\n",
      "/home/user/anaconda3/lib/python3.6/site-packages/sklearn/utils/validation.py:761: DataConversionWarning: A column-vector y was passed when a 1d array was expected. Please change the shape of y to (n_samples, ), for example using ravel().\n",
      "  y = column_or_1d(y, warn=True)\n"
     ]
    },
    {
     "data": {
      "text/plain": [
       "LogisticRegression(C=1.0, class_weight=None, dual=False, fit_intercept=True,\n",
       "          intercept_scaling=1, max_iter=1000, multi_class='warn',\n",
       "          n_jobs=None, penalty='l2', random_state=None, solver='warn',\n",
       "          tol=0.0001, verbose=0, warm_start=False)"
      ]
     },
     "execution_count": 10,
     "metadata": {},
     "output_type": "execute_result"
    }
   ],
   "source": [
    "data_train, data_test, target_train, target_test = train_test_split(dataset[0], target.reshape((1000,1)), test_size = 0.01)\n",
    "per = perceptron()\n",
    "per.fit(data_train, target_train)\n",
    "lr = LogisticRegression_()\n",
    "lr.fit(data_train, target_train)\n",
    "\n",
    "from sklearn.linear_model import LogisticRegression\n",
    "\n",
    "lr2 = LogisticRegression(tol = 0.0001, max_iter = 1000)\n",
    "lr2.fit(data_train, target_train)"
   ]
  },
  {
   "cell_type": "code",
   "execution_count": 12,
   "metadata": {
    "extensions": {
     "jupyter_dashboards": {
      "version": 1,
      "views": {
       "grid_default": {},
       "report_default": {}
      }
     }
    },
    "scrolled": true
   },
   "outputs": [
    {
     "name": "stdout",
     "output_type": "stream",
     "text": [
      "Perc=   [1, 1, 0, 0, 0, 0, 0, 1, 0, 0]\n",
      "LogReg_my= [1, 1, 0, 0, 0, 0, 0, 1, 0, 0]\n",
      "LogReg= [1 1 0 0 0 0 0 1 0 0]\n",
      "Real=  [1 1 0 0 0 0 0 1 0 0]\n"
     ]
    }
   ],
   "source": [
    "print('Perc=  ', per.predict(data_test))\n",
    "print('LogReg_my=', lr.predict(data_test))\n",
    "print('LogReg=', lr2.predict(data_test))\n",
    "print('Real= ', target_test.flatten())"
   ]
  },
  {
   "cell_type": "code",
   "execution_count": null,
   "metadata": {
    "extensions": {
     "jupyter_dashboards": {
      "version": 1,
      "views": {
       "grid_default": {},
       "report_default": {}
      }
     }
    }
   },
   "outputs": [],
   "source": []
  }
 ],
 "metadata": {
  "extensions": {
   "jupyter_dashboards": {
    "activeView": "grid_default",
    "version": 1,
    "views": {
     "grid_default": {
      "cellMargin": 10,
      "defaultCellHeight": 20,
      "maxColumns": 12,
      "name": "grid",
      "type": "grid"
     },
     "report_default": {
      "name": "report",
      "type": "report"
     }
    }
   }
  },
  "kernelspec": {
   "display_name": "Python 3",
   "language": "python",
   "name": "python3"
  },
  "language_info": {
   "codemirror_mode": {
    "name": "ipython",
    "version": 3
   },
   "file_extension": ".py",
   "mimetype": "text/x-python",
   "name": "python",
   "nbconvert_exporter": "python",
   "pygments_lexer": "ipython3",
   "version": "3.6.6"
  }
 },
 "nbformat": 4,
 "nbformat_minor": 2
}
