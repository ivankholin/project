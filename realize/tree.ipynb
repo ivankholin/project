{
 "cells": [
  {
   "cell_type": "code",
   "execution_count": 1,
   "metadata": {
    "extensions": {
     "jupyter_dashboards": {
      "version": 1,
      "views": {
       "grid_default": {},
       "report_default": {
        "hidden": false
       }
      }
     }
    }
   },
   "outputs": [
    {
     "name": "stderr",
     "output_type": "stream",
     "text": [
      "/home/user/anaconda3/lib/python3.7/site-packages/sklearn/cross_validation.py:41: DeprecationWarning: This module was deprecated in version 0.18 in favor of the model_selection module into which all the refactored classes and functions are moved. Also note that the interface of the new CV iterators are different from that of this module. This module will be removed in 0.20.\n",
      "  \"This module will be removed in 0.20.\", DeprecationWarning)\n"
     ]
    }
   ],
   "source": [
    "import numpy as np\n",
    "import pandas as pd\n",
    "from sklearn.datasets import make_circles\n",
    "from sklearn.cross_validation import train_test_split\n",
    "from sklearn.tree import DecisionTreeClassifier\n",
    "from sklearn.metrics import accuracy_score\n",
    "import matplotlib.pyplot as plt\n",
    "import math\n",
    "import random"
   ]
  },
  {
   "cell_type": "code",
   "execution_count": 2,
   "metadata": {
    "extensions": {
     "jupyter_dashboards": {
      "version": 1,
      "views": {
       "grid_default": {},
       "report_default": {
        "hidden": false
       }
      }
     }
    },
    "scrolled": false
   },
   "outputs": [
    {
     "data": {
      "image/png": "[encoded data removed]",
      "text/plain": [
       "<Figure size 432x288 with 1 Axes>"
      ]
     },
     "metadata": {
      "needs_background": "light"
     },
     "output_type": "display_data"
    }
   ],
   "source": [
    "data = make_circles(200, noise = 0.15, factor=0.5)\n",
    "plt.scatter(data[0][data[1] == 1][:,0], data[0][data[1] == 1][:,1])\n",
    "plt.scatter(data[0][data[1] == 0][:,0], data[0][data[1] == 0][:,1])\n",
    "plt.show()"
   ]
  },
  {
   "cell_type": "code",
   "execution_count": 3,
   "metadata": {
    "extensions": {
     "jupyter_dashboards": {
      "version": 1,
      "views": {
       "grid_default": {},
       "report_default": {
        "hidden": false
       }
      }
     }
    }
   },
   "outputs": [
    {
     "data": {
      "image/png": "[encoded data removed]",
      "text/plain": [
       "<Figure size 1152x360 with 2 Axes>"
      ]
     },
     "metadata": {
      "needs_background": "light"
     },
     "output_type": "display_data"
    },
    {
     "name": "stdout",
     "output_type": "stream",
     "text": [
      "0.88\n"
     ]
    }
   ],
   "source": [
    "data_train, data_test, target_train, target_test = train_test_split(data[0], data[1], random_state=0)\n",
    "\n",
    "tree = DecisionTreeClassifier(max_depth=None)\n",
    "tree.fit(data_train, target_train)\n",
    "predict = tree.predict(data_test)\n",
    "fig,(ax1, ax2) =plt.subplots(1, 2, figsize=(16,5))\n",
    "\n",
    "x_min, x_max = data_test[:, 0].min() - .1, data_test[:, 0].max() + .1\n",
    "y_min, y_max = data_test[:, 1].min() - .1, data_test[:, 1].max() + .1\n",
    "xx, yy = np.meshgrid(np.arange(x_min, x_max, 0.01),\n",
    "                         np.arange(y_min, y_max, 0.01))\n",
    "plt.tight_layout(h_pad=0.5, w_pad=0.5, pad=2.5)\n",
    "\n",
    "Z = tree.predict(np.c_[xx.ravel(), yy.ravel()])\n",
    "Z = Z.reshape(xx.shape)\n",
    "ax1.contourf(xx, yy, Z, cmap=plt.cm.RdYlBu)\n",
    "\n",
    "ax1.scatter(data_test[predict == 1][:,0], data_test[predict == 1][:,1])\n",
    "ax1.scatter(data_test[predict == 0][:,0], data_test[predict == 0][:,1])\n",
    "\n",
    "ax2.scatter(data_test[target_test == 1][:,0], data_test[target_test == 1][:,1])\n",
    "ax2.scatter(data_test[target_test == 0][:,0], data_test[target_test == 0][:,1])\n",
    "plt.show()\n",
    "\n",
    "print(accuracy_score(y_pred=predict, y_true=target_test))"
   ]
  },
  {
   "cell_type": "code",
   "execution_count": 4,
   "metadata": {
    "extensions": {
     "jupyter_dashboards": {
      "version": 1,
      "views": {
       "grid_default": {},
       "report_default": {
        "hidden": true
       }
      }
     }
    }
   },
   "outputs": [],
   "source": [
    "class DecisTree():\n",
    "    def __init__(self, max_depth=None):\n",
    "        self.max_depth= max_depth\n",
    "        self.left_tree = 0\n",
    "        self.right_tree = 0\n",
    "        self.porog = 0\n",
    "        self.feature = -1\n",
    "        self.predict_class = -1\n",
    "        \n",
    "    \n",
    "    def entropy(self, y):\n",
    "        \"\"\"расчет энтропии Шеннона\"\"\"\n",
    "        cnt = len(y)\n",
    "        cnt1 = y.sum()\n",
    "        cnt0 = cnt - cnt1;\n",
    "        entropy = 0\n",
    "        for i in y:\n",
    "            if(i == 0):\n",
    "                entropy -= cnt0/cnt * math.log(cnt0/cnt)\n",
    "            elif(i == 1):\n",
    "                entropy -= cnt1/cnt * math.log(cnt1/cnt)\n",
    "        return entropy\n",
    "    \n",
    "    def del_feature(self, x, y):\n",
    "        \"\"\" Определение оптимального разбиения по признаку х.\n",
    "            Минимизирует энтропию.\"\"\"\n",
    "        entropy = self.entropy(y)\n",
    "        porog = None\n",
    "        for i in x:\n",
    "            left_entr = self.entropy(y[x < i])*float(len(y[x < i])/len(y))\n",
    "            right_entr = self.entropy(y[x >= i])*float(len(y[x >= i])/len(y))\n",
    "            if(entropy > left_entr + right_entr):\n",
    "                entropy = left_entr + right_entr\n",
    "                porog = i\n",
    "        return {'entropy': entropy, 'porog':porog}\n",
    "                \n",
    "    \n",
    "    def fit(self, X, Y):\n",
    "        \"\"\"Обучение (нахождение оптимального разбиения) для листа дерева.\"\"\"\n",
    "        feature = 0\n",
    "        min_entropy = 10000000;\n",
    "        porog = 0\n",
    "        k = 0\n",
    "        I = np.arange(X.shape[1])\n",
    "        random.shuffle(I)\n",
    "        for i in I:\n",
    "            entr = self.del_feature(X[:,i], Y)['entropy']\n",
    "            if(self.del_feature(X[:,i], Y)['porog'] != None and (self.max_depth != 0 or self.max_depth == None)):\n",
    "                if(min_entropy > entr):\n",
    "                    min_entropy = entr\n",
    "                    porog = self.del_feature(X[:,i], Y)['porog']\n",
    "                    feature = k\n",
    "            else:\n",
    "                self.predict_class = 0 if Y.sum() < len(Y) - Y.sum() else 1\n",
    "                return\n",
    "            \n",
    "            k += 1\n",
    "        self.porog = porog\n",
    "        self.feature = feature\n",
    "        self.left_tree = DecisTree(self.max_depth - 1 if self.max_depth != None else None)\n",
    "        self.left_tree.fit(X[X[:, feature] < porog], Y[X[:, feature] < porog])\n",
    "        self.right_tree = DecisTree(self.max_depth - 1 if self.max_depth != None else None)\n",
    "        self.right_tree.fit(X[X[:, feature] >= porog], Y[X[:, feature] >= porog])\n",
    "\n",
    "        \n",
    "    def predict(self, X):\n",
    "        \"\"\"Определе принадежности примеров к одному из классов\"\"\"\n",
    "        if(self.predict_class != -1):\n",
    "            return np.array([self.predict_class]*X.shape[0])\n",
    "        else:\n",
    "            tmp = np.array([-1]*X.shape[0])\n",
    "            left = self.left_tree.predict(X[X[:, self.feature] < self.porog])\n",
    "            left_ind = np.arange(len(tmp))[X[:, self.feature] < self.porog]\n",
    "            j = 0\n",
    "            for i in left_ind:\n",
    "                tmp[i] = left[j]\n",
    "                j += 1\n",
    "            right = self.right_tree.predict(X[X[:, self.feature] >= self.porog])\n",
    "            right_ind = np.arange(len(tmp))[X[:, self.feature] >= self.porog]\n",
    "            j = 0\n",
    "            for i in right_ind:\n",
    "                tmp[i] = right[j]\n",
    "                j += 1\n",
    "            return tmp"
   ]
  },
  {
   "cell_type": "code",
   "execution_count": 5,
   "metadata": {
    "extensions": {
     "jupyter_dashboards": {
      "version": 1,
      "views": {
       "grid_default": {},
       "report_default": {
        "hidden": false
       }
      }
     }
    }
   },
   "outputs": [
    {
     "name": "stdout",
     "output_type": "stream",
     "text": [
      "0.9\n"
     ]
    },
    {
     "data": {
      "image/png": "[encoded data removed]",
      "text/plain": [
       "<Figure size 432x288 with 1 Axes>"
      ]
     },
     "metadata": {
      "needs_background": "light"
     },
     "output_type": "display_data"
    }
   ],
   "source": [
    "my_tree = DecisTree()\n",
    "my_tree.fit(data_train, target_train)\n",
    "print(accuracy_score(y_pred=my_tree.predict(data_test), y_true=target_test))\n",
    "\n",
    "x_min, x_max = data_test[:, 0].min() - .1, data_test[:, 0].max() + .1\n",
    "y_min, y_max = data_test[:, 1].min() - .1, data_test[:, 1].max() + .1\n",
    "xx, yy = np.meshgrid(np.arange(x_min, x_max, 0.01),\n",
    "                         np.arange(y_min, y_max, 0.01))\n",
    "plt.tight_layout(h_pad=0.5, w_pad=0.5, pad=2.5)\n",
    "\n",
    "Z = my_tree.predict(np.c_[xx.ravel(), yy.ravel()])\n",
    "Z = Z.reshape(xx.shape)\n",
    "plt.contourf(xx, yy, Z, cmap=plt.cm.RdYlBu)\n",
    "\n",
    "plt.scatter(data_test[my_tree.predict(data_test) == 1][:,0], data_test[my_tree.predict(data_test) == 1][:,1])\n",
    "plt.scatter(data_test[my_tree.predict(data_test) == 0][:,0], data_test[my_tree.predict(data_test) == 0][:,1])\n",
    "plt.show()"
   ]
  }
 ],
 "metadata": {
  "extensions": {
   "jupyter_dashboards": {
    "activeView": "grid_default",
    "version": 1,
    "views": {
     "grid_default": {
      "cellMargin": 10,
      "defaultCellHeight": 20,
      "maxColumns": 12,
      "name": "grid",
      "type": "grid"
     },
     "report_default": {
      "name": "report",
      "type": "report"
     }
    }
   }
  },
  "kernelspec": {
   "display_name": "Python 3",
   "language": "python",
   "name": "python3"
  },
  "language_info": {
   "codemirror_mode": {
    "name": "ipython",
    "version": 3
   },
   "file_extension": ".py",
   "mimetype": "text/x-python",
   "name": "python",
   "nbconvert_exporter": "python",
   "pygments_lexer": "ipython3",
   "version": "3.6.6"
  }
 },
 "nbformat": 4,
 "nbformat_minor": 2
}
